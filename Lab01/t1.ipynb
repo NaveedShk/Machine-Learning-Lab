{
 "cells": [
  {
   "cell_type": "code",
   "execution_count": 2,
   "id": "63f68fd4",
   "metadata": {},
   "outputs": [
    {
     "name": "stdout",
     "output_type": "stream",
     "text": [
      "   test_score writing_skills reading_skills  attendance  study_hours\n",
      "0          35           Poor           Weak          60            5\n",
      "1          42           Fair           Weak          55            6\n",
      "2          25           Poor           Poor          40            3\n",
      "3          50           Fair           Fair          70            7\n",
      "4          30           Poor           Weak          45            4\n",
      "5          28           Poor           Poor          50            2\n",
      "6          47           Fair           Fair          65            6\n",
      "7          33           Weak           Weak          58            5\n",
      "8          45           Fair           Weak          62            5\n",
      "9          20           Poor           Poor          35            2\n"
     ]
    }
   ],
   "source": [
    "import pandas as pd\n",
    "\n",
    "data = (\n",
    "    (35, \"Poor\", \"Weak\", 60, 5),\n",
    "    (42, \"Fair\", \"Weak\", 55, 6),\n",
    "    (25, \"Poor\", \"Poor\", 40, 3),\n",
    "    (50, \"Fair\", \"Fair\", 70, 7),\n",
    "    (30, \"Poor\", \"Weak\", 45, 4),\n",
    "    (28, \"Poor\", \"Poor\", 50, 2),\n",
    "    (47, \"Fair\", \"Fair\", 65, 6),\n",
    "    (33, \"Weak\", \"Weak\", 58, 5),\n",
    "    (45, \"Fair\", \"Weak\", 62, 5),\n",
    "    (20, \"Poor\", \"Poor\", 35, 2),\n",
    ")\n",
    "\n",
    "df = pd.DataFrame(data, columns=[\"test_score\", \"writing_skills\", \"reading_skills\", \"attendance\", \"study_hours\"])\n",
    "print(df)"
   ]
  },
  {
   "cell_type": "code",
   "execution_count": null,
   "id": "c5ff6a66",
   "metadata": {},
   "outputs": [],
   "source": []
  }
 ],
 "metadata": {
  "kernelspec": {
   "display_name": "Python 3",
   "language": "python",
   "name": "python3"
  },
  "language_info": {
   "codemirror_mode": {
    "name": "ipython",
    "version": 3
   },
   "file_extension": ".py",
   "mimetype": "text/x-python",
   "name": "python",
   "nbconvert_exporter": "python",
   "pygments_lexer": "ipython3",
   "version": "3.12.7"
  }
 },
 "nbformat": 4,
 "nbformat_minor": 5
}
