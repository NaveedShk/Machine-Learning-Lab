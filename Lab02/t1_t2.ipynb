{
 "cells": [
  {
   "cell_type": "code",
   "execution_count": 3,
   "id": "4318002e",
   "metadata": {},
   "outputs": [
    {
     "name": "stdout",
     "output_type": "stream",
     "text": [
      "Dataset A Shape: (26983, 5)\n",
      "Dataset B Shape: (26983, 7)\n",
      "Dataset C Shape: (26983, 3)\n",
      "\n",
      "Columns in A: Index(['fid', 'name', 'population', 'county', 'latitude'], dtype='object')\n",
      "Columns in B: Index(['name', 'population', 'county', 'longitude', 'level', 'enrollment',\n",
      "       'level.1'],\n",
      "      dtype='object')\n",
      "Columns in C: Index(['county', 'city', 'score'], dtype='object')\n"
     ]
    }
   ],
   "source": [
    "import pandas as pd\n",
    "\n",
    "dfA = pd.read_csv(\"Lab2 D1A.csv\")\n",
    "dfB = pd.read_csv(\"Lab2 D1B.csv\")\n",
    "dfC = pd.read_csv(\"Lab2 D1C.csv\")\n",
    "\n",
    "# Check basic info for each\n",
    "print(\"Dataset A Shape:\", dfA.shape)\n",
    "print(\"Dataset B Shape:\", dfB.shape)\n",
    "print(\"Dataset C Shape:\", dfC.shape)\n",
    "\n",
    "# Explore columns before merging\n",
    "print(\"\\nColumns in A:\", dfA.columns)\n",
    "print(\"Columns in B:\", dfB.columns)\n",
    "print(\"Columns in C:\", dfC.columns)"
   ]
  },
  {
   "cell_type": "code",
   "execution_count": 4,
   "id": "a9ab3e7d",
   "metadata": {},
   "outputs": [
    {
     "name": "stdout",
     "output_type": "stream",
     "text": [
      "Combined A + B shape: (26983, 9)\n",
      "Columns in Combined Dataset:\n",
      " Index(['fid', 'name', 'population', 'county', 'latitude', 'longitude', 'level',\n",
      "       'enrollment', 'level.1'],\n",
      "      dtype='object')\n"
     ]
    }
   ],
   "source": [
    "\n",
    "combined_AB = pd.concat([dfA, dfB.loc[:, ~dfB.columns.isin(dfA.columns)]], axis=1)\n",
    "\n",
    "print(\"Combined A + B shape:\", combined_AB.shape)\n",
    "print(\"Columns in Combined Dataset:\\n\", combined_AB.columns)\n"
   ]
  },
  {
   "cell_type": "code",
   "execution_count": 10,
   "id": "d760d680",
   "metadata": {},
   "outputs": [
    {
     "name": "stdout",
     "output_type": "stream",
     "text": [
      "Merged comboAC shape: (4221333, 7)\n"
     ]
    }
   ],
   "source": [
    "comboAC = pd.merge(dfA, dfC, on=\"county\", how=\"inner\")\n",
    "\n",
    "print(\"Merged comboAC shape:\", comboAC.shape)\n",
    "\n",
    "\n",
    "comboAC.to_csv(\"comboAC.csv\", index=False)"
   ]
  },
  {
   "cell_type": "markdown",
   "id": "7b6b67ff",
   "metadata": {},
   "source": [
    "TASK 02"
   ]
  },
  {
   "cell_type": "code",
   "execution_count": 15,
   "id": "dfcbe11c",
   "metadata": {},
   "outputs": [
    {
     "name": "stdout",
     "output_type": "stream",
     "text": [
      "Customized Dataset (customizedData):\n",
      "    county    Size Direction    Timings Category  Score\n",
      "0      USA   Small     North  Full-time        A   85.5\n",
      "1   Canada  Medium     South  Part-time        B   72.0\n",
      "2    India    High      East  Full-time        C   90.2\n",
      "3  Germany  Medium      West  Part-time        A   66.3\n",
      "4   Brazil   Small     North  Full-time        B   78.9\n",
      "5    Japan    High      East  Full-time        C   88.1\n",
      "6       UK  Medium      West  Part-time        A   70.5\n",
      "7    China   Small     South  Full-time        B   95.0\n",
      "\n",
      "Shape of customizedData: (8, 6)\n"
     ]
    }
   ],
   "source": [
    "import pandas as pd\n",
    "\n",
    "customizedData = pd.DataFrame({\n",
    "    \"county\": [\"USA\", \"Canada\", \"India\", \"Germany\", \"Brazil\", \"Japan\", \"UK\", \"China\"],\n",
    "    \"Size\": [\"Small\", \"Medium\", \"High\", \"Medium\", \"Small\", \"High\", \"Medium\", \"Small\"],\n",
    "    \"Direction\": [\"North\", \"South\", \"East\", \"West\", \"North\", \"East\", \"West\", \"South\"],\n",
    "    \"Timings\": [\"Full-time\", \"Part-time\", \"Full-time\", \"Part-time\", \"Full-time\", \"Full-time\", \"Part-time\", \"Full-time\"],\n",
    "    \"Category\": [\"A\", \"B\", \"C\", \"A\", \"B\", \"C\", \"A\", \"B\"],\n",
    "    \"Score\": [85.5, 72.0, 90.2, 66.3, 78.9, 88.1, 70.5, 95.0]\n",
    "})\n",
    "\n",
    "print(\"Customized Dataset (customizedData):\")\n",
    "print(customizedData)\n",
    "print(\"\\nShape of customizedData:\", customizedData.shape)"
   ]
  },
  {
   "cell_type": "code",
   "execution_count": 16,
   "id": "9a0c4809",
   "metadata": {},
   "outputs": [
    {
     "name": "stdout",
     "output_type": "stream",
     "text": [
      "\n",
      "Final Modified Dataset (modifiedData):\n",
      "Empty DataFrame\n",
      "Columns: [fid, name_x, population_x, county, latitude, Size, Direction, Timings, Category, Score, name_y, population_y, longitude, level, enrollment, level.1, city, score]\n",
      "Index: []\n",
      "\n",
      "Shape of dfA: (26983, 5)\n",
      "Shape of dfB: (26983, 7)\n",
      "Shape of dfC: (26983, 3)\n",
      "Shape of customizedData: (8, 6)\n",
      "\n",
      "Shape of modifiedData (after merging all): (0, 18)\n"
     ]
    }
   ],
   "source": [
    "\n",
    "mergeA = pd.merge(dfA, customizedData, on=\"county\", how=\"inner\")\n",
    "\n",
    "\n",
    "mergeAB = pd.merge(mergeA, dfB, on=\"county\", how=\"inner\")\n",
    "\n",
    "\n",
    "modifiedData = pd.merge(mergeAB, dfC, on=\"county\", how=\"inner\")\n",
    "\n",
    "print(\"\\nFinal Modified Dataset (modifiedData):\")\n",
    "print(modifiedData.head())\n",
    "\n",
    "# 📊 Shape Analysis Before vs After\n",
    "print(\"\\nShape of dfA:\", dfA.shape)\n",
    "print(\"Shape of dfB:\", dfB.shape)\n",
    "print(\"Shape of dfC:\", dfC.shape)\n",
    "print(\"Shape of customizedData:\", customizedData.shape)\n",
    "print(\"\\nShape of modifiedData (after merging all):\", modifiedData.shape)"
   ]
  },
  {
   "cell_type": "code",
   "execution_count": 17,
   "id": "1411770f",
   "metadata": {},
   "outputs": [
    {
     "name": "stdout",
     "output_type": "stream",
     "text": [
      "\n",
      "Number of Records in modifiedData: 0\n",
      "Number of Features in modifiedData: 18\n",
      "\n",
      "Info about modifiedData:\n",
      "<class 'pandas.core.frame.DataFrame'>\n",
      "RangeIndex: 0 entries\n",
      "Data columns (total 18 columns):\n",
      " #   Column        Non-Null Count  Dtype  \n",
      "---  ------        --------------  -----  \n",
      " 0   fid           0 non-null      int64  \n",
      " 1   name_x        0 non-null      object \n",
      " 2   population_x  0 non-null      int64  \n",
      " 3   county        0 non-null      object \n",
      " 4   latitude      0 non-null      float64\n",
      " 5   Size          0 non-null      object \n",
      " 6   Direction     0 non-null      object \n",
      " 7   Timings       0 non-null      object \n",
      " 8   Category      0 non-null      object \n",
      " 9   Score         0 non-null      float64\n",
      " 10  name_y        0 non-null      object \n",
      " 11  population_y  0 non-null      int64  \n",
      " 12  longitude     0 non-null      float64\n",
      " 13  level         0 non-null      object \n",
      " 14  enrollment    0 non-null      int64  \n",
      " 15  level.1       0 non-null      object \n",
      " 16  city          0 non-null      object \n",
      " 17  score         0 non-null      int64  \n",
      "dtypes: float64(3), int64(5), object(10)\n",
      "memory usage: 132.0+ bytes\n",
      "None\n"
     ]
    }
   ],
   "source": [
    "print(\"\\nNumber of Records in modifiedData:\", modifiedData.shape[0])\n",
    "print(\"Number of Features in modifiedData:\", modifiedData.shape[1])\n",
    "\n",
    "print(\"\\nInfo about modifiedData:\")\n",
    "print(modifiedData.info())"
   ]
  }
 ],
 "metadata": {
  "kernelspec": {
   "display_name": "Python 3",
   "language": "python",
   "name": "python3"
  },
  "language_info": {
   "codemirror_mode": {
    "name": "ipython",
    "version": 3
   },
   "file_extension": ".py",
   "mimetype": "text/x-python",
   "name": "python",
   "nbconvert_exporter": "python",
   "pygments_lexer": "ipython3",
   "version": "3.12.7"
  }
 },
 "nbformat": 4,
 "nbformat_minor": 5
}
